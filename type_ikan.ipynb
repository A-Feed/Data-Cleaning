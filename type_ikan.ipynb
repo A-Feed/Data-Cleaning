{
  "nbformat": 4,
  "nbformat_minor": 0,
  "metadata": {
    "colab": {
      "provenance": []
    },
    "kernelspec": {
      "name": "python3",
      "display_name": "Python 3"
    },
    "language_info": {
      "name": "python"
    }
  },
  "cells": [
    {
      "cell_type": "code",
      "execution_count": 18,
      "metadata": {
        "id": "mIORj-EtFzcP"
      },
      "outputs": [],
      "source": [
        "import pandas as pd\n",
        "import numpy as np"
      ]
    },
    {
      "cell_type": "code",
      "source": [
        "df = pd.read_csv('/content/data_clean.csv')"
      ],
      "metadata": {
        "id": "t2oSLTbgGDxO"
      },
      "execution_count": 19,
      "outputs": []
    },
    {
      "cell_type": "code",
      "source": [
        "def label_ikan(row):\n",
        "  ph = row['ph']\n",
        "  temp = row['temp']\n",
        "\n",
        "  if 6.5 <= ph <= 10 and 20 <= temp <= 35:\n",
        "    return 'ikan nila'\n",
        "\n",
        "  elif 6 <= ph <= 9 and 20 <= temp <= 32:\n",
        "    return 'ikan lele'\n",
        "\n",
        "  elif 5.5 <= ph <= 8.5 and 20 <= temp <= 32:\n",
        "    return 'ikan gurame'\n",
        "\n",
        "  else:\n",
        "    return 'unknown'\n",
        "\n"
      ],
      "metadata": {
        "id": "rts5P3UmGRUw"
      },
      "execution_count": 20,
      "outputs": []
    },
    {
      "cell_type": "code",
      "source": [
        "df['type'] = df.apply(label_ikan, axis=1)"
      ],
      "metadata": {
        "id": "UwqpfYjcIYi-"
      },
      "execution_count": 21,
      "outputs": []
    },
    {
      "cell_type": "code",
      "source": [
        "df.to_csv('/content/data_label.csv', index=False)"
      ],
      "metadata": {
        "id": "UO3FRTgtI-6f"
      },
      "execution_count": 22,
      "outputs": []
    }
  ]
}